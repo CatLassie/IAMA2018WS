{
 "cells": [
  {
   "cell_type": "markdown",
   "metadata": {},
   "source": [
    "# Imports and constants"
   ]
  },
  {
   "cell_type": "code",
   "execution_count": 142,
   "metadata": {},
   "outputs": [],
   "source": [
    "# IMPORT STATEMENTS\n",
    "\n",
    "\n",
    "\n",
    "import numpy as np\n",
    "from sklearn.neural_network import MLPClassifier\n",
    "from sklearn.metrics import precision_score\n",
    "from sklearn.metrics import recall_score\n",
    "from sklearn.metrics import f1_score\n",
    "from sklearn.metrics import roc_curve\n",
    "from sklearn.metrics import roc_auc_score\n",
    "from sklearn.metrics import auc\n",
    "import matplotlib.pyplot as plt\n",
    "from customScripts import utilities as util\n",
    "from customScripts import features as feat\n",
    "from customScripts import onset\n",
    "import scipy.signal\n",
    "\n",
    "import librosa"
   ]
  },
  {
   "cell_type": "code",
   "execution_count": 143,
   "metadata": {},
   "outputs": [],
   "source": [
    "# PARAMETERS\n",
    "\n",
    "\n",
    "\n",
    "#number of samples / second\n",
    "sampling_rate = 100000 #96000\n",
    "\n",
    "#length of frame in samples\n",
    "frame_length = 2000 #2048\n",
    "\n",
    "#number of samples used as offset for earch consecutive frame\n",
    "hop_length = 1000 #1024\n",
    "\n",
    "#number of mel frequency bins to use\n",
    "bin_number = 40 #80\n",
    "\n",
    "# size of the running window (in frames) for the threshold function / constants to add/mult. with threshold\n",
    "threshold_window_size = 61\n",
    "threshold_add_parameter = 35 # 35 / 300 for median, 200 for mean (small multiplier seems better)\n",
    "threshold_multiply_parameter = 7 # 7 / 1 for median, 1 for mean \n",
    "\n",
    "#set the desired number of frames / second here\n",
    "ground_thruth_conversion_const = 100 #2 # not used\n",
    "\n",
    "# get train file paths\n",
    "train_onsets_paths, train_beats_paths, train_bpm_paths = util.get_file_paths('music_data/train')\n",
    "# get test file paths\n",
    "test_onsets_paths, test_beats_paths, test_bpm_paths = util.get_file_paths('music_data/test')\n",
    "\n",
    "# prediction_paths = ['predictions/Muppets-02-01-01.csv', 'predictions/Muppets-02-04-04.csv', 'predictions/Muppets-03-04-03.csv']\n",
    "# file_lengths = [1547, 1548, 1539] #in seconds\n",
    "\n",
    "# tested paths\n",
    "tested_path_all = 'music_data/train/al_Media-103515(9.1-19.1)'\n",
    "tested_path_onsets = 'music_data/train/ah_development_guitar_2684_TexasMusicForge_Dandelion_pt1'"
   ]
  },
  {
   "cell_type": "markdown",
   "metadata": {},
   "source": [
    "# Single track onset / bpm / beat detection"
   ]
  },
  {
   "cell_type": "code",
   "execution_count": 178,
   "metadata": {},
   "outputs": [],
   "source": [
    "############################### CHOOSE A PATH (e.g. train_bpm_paths[0]) #################\n",
    "\n",
    "path_single = tested_path_onsets\n",
    "path_single = tested_path_all\n",
    "#path_single = train_onsets_paths[0]\n",
    "\n",
    "#########################################################################################"
   ]
  },
  {
   "cell_type": "code",
   "execution_count": 179,
   "metadata": {},
   "outputs": [
    {
     "name": "stdout",
     "output_type": "stream",
     "text": [
      "music_data/train/al_Media-103515(9.1-19.1)\n",
      "music_data/train/al_Media-103515(9.1-19.1).onsets\n"
     ]
    }
   ],
   "source": [
    "# FEATURE EXTRACTION AND LOADING GROUND TRUTH\n",
    "\n",
    "\n",
    "\n",
    "# load single audio\n",
    "print(path_single)\n",
    "audio_single = util.load_audio(path_single + '.flac', sampling_rate)\n",
    "\n",
    "# compute single audio spectrogram\n",
    "spectrogram_single = feat.compute_spectrogram(audio_single, frame_length, hop_length, bin_number)\n",
    "spectrogram_single_T = spectrogram_single.transpose()\n",
    "\n",
    "#print('frame number:',len(spectrogram_single_T))\n",
    "#print('bin number:',len(spectrogram_single))\n",
    "print(path_single + '.onsets')\n",
    "# compute ground truth for single audio\n",
    "gt_onsets_single = util.load_onsets_gt(path_single + '.onsets', '/n')\n",
    "try:\n",
    "    gt_beats_single = util.load_beats_gt(path_single + '.beats', '/n')\n",
    "except:\n",
    "    gt_beats_single = None\n",
    "    print('beats ground truth doesnt exist for this file!')\n",
    "try:\n",
    "    gt_bpm_single = util.load_bpm_gt(path_single + '.bpm', '/n')\n",
    "except:\n",
    "    gt_bpm_single = None\n",
    "    print('bpm ground truth doesnt exist for this file!')"
   ]
  },
  {
   "cell_type": "code",
   "execution_count": 180,
   "metadata": {},
   "outputs": [
    {
     "name": "stdout",
     "output_type": "stream",
     "text": [
      "max value:  421.91000851560364\n",
      "mean value:  36.94553546740891\n",
      "median value:  21.483248501547475\n",
      "41\n",
      "60\n",
      "predicted:  0.01   208.3339710194856    actual:  0.02   182.07671141765823\n",
      "predicted:  0.3   167.27034493052386    actual:  0.3   167.27034493052386\n",
      "predicted:  0.39   100.30706067066004    actual:  0.4   21.723837030276194\n",
      "predicted:  0.76   199.91467468809776    actual:  0.67   59.83158071725954\n",
      "predicted:  1.01   94.71208625535073    actual:  0.76   199.91467468809776\n",
      "predicted:  1.15   176.15320002842455    actual:  1.02   83.43013587847929\n",
      "predicted:  1.38   122.0771402137279    actual:  1.15   176.15320002842455\n",
      "predicted:  1.49   360.3191200855761    actual:  1.16   85.11383384694804\n",
      "predicted:  1.89   167.53392312070724    actual:  1.4   92.36328961396114\n",
      "predicted:  2.26   204.57049629562368    actual:  1.44   48.581761570122865\n",
      "predicted:  2.5   86.24387067056705    actual:  1.52   217.88539317948997\n",
      "predicted:  2.63   118.3460908754872    actual:  1.8   40.2308410688057\n",
      "predicted:  3.02   180.30704220500644    actual:  1.91   54.76461329384539\n",
      "predicted:  3.38   102.1881146709553    actual:  1.92   48.21615943871743\n",
      "predicted:  3.76   290.97615186126393    actual:  2.17   35.10174638000608\n",
      "predicted:  4.02   128.0672389787842    actual:  2.26   204.57049629562368\n",
      "predicted:  4.12   119.5051780688245    actual:  2.52   74.36572204214154\n",
      "predicted:  4.38   178.53099661526014    actual:  2.55   70.90351426268947\n",
      "predicted:  4.49   276.748163271692    actual:  2.65   49.388182581933414\n",
      "predicted:  4.75   204.2786412227644    actual:  2.71   38.6809311329544\n",
      "predicted:  4.86   277.9856202941254    actual:  2.93   75.05235986528768\n",
      "predicted:  5.23   166.68199709723604    actual:  3.02   180.30704220500644\n",
      "predicted:  5.49   97.55458671456232    actual:  3.3   51.71535546546785\n",
      "predicted:  5.6   126.8112855382292    actual:  3.39   97.42309368484696\n",
      "predicted:  5.86   113.20495429561244    actual:  3.6   31.785435757362396\n",
      "predicted:  5.99   299.1094769656426    actual:  3.76   290.97615186126393\n",
      "predicted:  6.27   133.8152387343712    actual:  4.02   128.0672389787842\n",
      "predicted:  6.37   147.36147435131056    actual:  4.13   68.47950396398159\n",
      "predicted:  6.72   183.84452939514338    actual:  4.38   178.53099661526014\n",
      "predicted:  7.0   131.37847636083794    actual:  4.42   96.57900147618605\n",
      "predicted:  7.11   104.91688816736254    actual:  4.5   239.16316300742676\n",
      "predicted:  7.46   143.735275872057    actual:  4.76   88.45830334916897\n",
      "predicted:  7.86   129.7980790532121    actual:  4.88   121.7347243826408\n",
      "predicted:  8.12   107.56197672062783    actual:  5.25   145.94744835324758\n",
      "predicted:  8.23   166.40832626419882    actual:  5.5   64.67804790026656\n",
      "predicted:  8.49   85.17968614259445    actual:  5.54   38.77885533836153\n",
      "predicted:  8.6   141.74665705089606    actual:  5.63   69.96201540353142\n",
      "predicted:  8.97   133.55255029272678    actual:  5.89   72.62999217971972\n",
      "predicted:  9.37   119.72521620230242    actual:  5.99   299.1094769656426\n",
      "predicted:  9.74   222.1246840801563    actual:  6.27   133.8152387343712\n",
      "predicted:  10.0   421.91000851560364    actual:  6.38   131.8719376499501\n"
     ]
    },
    {
     "ename": "IndexError",
     "evalue": "index 41 is out of bounds for axis 0 with size 41",
     "output_type": "error",
     "traceback": [
      "\u001b[0;31m---------------------------------------------------------------------------\u001b[0m",
      "\u001b[0;31mIndexError\u001b[0m                                Traceback (most recent call last)",
      "\u001b[0;32m<ipython-input-180-c3c57b9faf85>\u001b[0m in \u001b[0;36m<module>\u001b[0;34m\u001b[0m\n\u001b[1;32m     16\u001b[0m \u001b[0mprint\u001b[0m\u001b[0;34m(\u001b[0m\u001b[0mlen\u001b[0m\u001b[0;34m(\u001b[0m\u001b[0mgt_onsets_single\u001b[0m\u001b[0;34m)\u001b[0m\u001b[0;34m)\u001b[0m\u001b[0;34m\u001b[0m\u001b[0m\n\u001b[1;32m     17\u001b[0m \u001b[0;32mfor\u001b[0m \u001b[0mi\u001b[0m \u001b[0;32min\u001b[0m \u001b[0mrange\u001b[0m\u001b[0;34m(\u001b[0m\u001b[0mlen\u001b[0m\u001b[0;34m(\u001b[0m\u001b[0mgt_onsets_single\u001b[0m\u001b[0;34m)\u001b[0m\u001b[0;34m)\u001b[0m\u001b[0;34m:\u001b[0m\u001b[0;34m\u001b[0m\u001b[0m\n\u001b[0;32m---> 18\u001b[0;31m         \u001b[0mi_p\u001b[0m \u001b[0;34m=\u001b[0m \u001b[0mint\u001b[0m\u001b[0;34m(\u001b[0m\u001b[0mround\u001b[0m\u001b[0;34m(\u001b[0m\u001b[0monset_time_stamps_single\u001b[0m\u001b[0;34m[\u001b[0m\u001b[0mi\u001b[0m\u001b[0;34m]\u001b[0m\u001b[0;34m*\u001b[0m\u001b[0;36m100\u001b[0m\u001b[0;34m)\u001b[0m\u001b[0;34m)\u001b[0m\u001b[0;34m\u001b[0m\u001b[0m\n\u001b[0m\u001b[1;32m     19\u001b[0m         \u001b[0mi_gt\u001b[0m \u001b[0;34m=\u001b[0m \u001b[0mint\u001b[0m\u001b[0;34m(\u001b[0m\u001b[0mround\u001b[0m\u001b[0;34m(\u001b[0m\u001b[0mgt_onsets_single\u001b[0m\u001b[0;34m[\u001b[0m\u001b[0mi\u001b[0m\u001b[0;34m]\u001b[0m\u001b[0;34m*\u001b[0m\u001b[0;36m100\u001b[0m\u001b[0;34m)\u001b[0m\u001b[0;34m)\u001b[0m\u001b[0;34m\u001b[0m\u001b[0m\n\u001b[1;32m     20\u001b[0m         \u001b[0mprint\u001b[0m\u001b[0;34m(\u001b[0m\u001b[0;34m'predicted: '\u001b[0m\u001b[0;34m,\u001b[0m \u001b[0monset_time_stamps_single\u001b[0m\u001b[0;34m[\u001b[0m\u001b[0mi\u001b[0m\u001b[0;34m]\u001b[0m\u001b[0;34m,\u001b[0m \u001b[0;34m' '\u001b[0m\u001b[0;34m,\u001b[0m \u001b[0modf_single\u001b[0m\u001b[0;34m[\u001b[0m\u001b[0mi_p\u001b[0m\u001b[0;34m]\u001b[0m\u001b[0;34m,\u001b[0m \u001b[0;34m'   actual: '\u001b[0m\u001b[0;34m,\u001b[0m \u001b[0mgt_onsets_single\u001b[0m\u001b[0;34m[\u001b[0m\u001b[0mi\u001b[0m\u001b[0;34m]\u001b[0m\u001b[0;34m,\u001b[0m \u001b[0;34m' '\u001b[0m\u001b[0;34m,\u001b[0m \u001b[0modf_single\u001b[0m\u001b[0;34m[\u001b[0m\u001b[0mi_gt\u001b[0m\u001b[0;34m]\u001b[0m\u001b[0;34m,\u001b[0m\u001b[0;34m)\u001b[0m\u001b[0;34m\u001b[0m\u001b[0m\n",
      "\u001b[0;31mIndexError\u001b[0m: index 41 is out of bounds for axis 0 with size 41"
     ]
    }
   ],
   "source": [
    "# ONSET DETECTION\n",
    "\n",
    "odf_single = onset.compute_odf(spectrogram_single, bin_number)\n",
    "peaks_single = onset.apply_threshold_median(odf_single, 19, 60, 1, True)\n",
    "maxima_frame_indices_single = onset.pick_local_peaks(peaks_single)\n",
    "onset_time_stamps_single = maxima_frame_indices_single / 100\n",
    "\n",
    "\"\"\"\n",
    "for i, p in enumerate(peaks_single):\n",
    "    if p > 0:\n",
    "        print(i/100, '   ', p)\n",
    "\"\"\"\n",
    "\n",
    "\n",
    "print(len(onset_time_stamps_single))\n",
    "print(len(gt_onsets_single))\n",
    "for i in range(len(gt_onsets_single)):\n",
    "        i_p = int(round(onset_time_stamps_single[i]*100))\n",
    "        i_gt = int(round(gt_onsets_single[i]*100))\n",
    "        print('predicted: ', onset_time_stamps_single[i], ' ', odf_single[i_p], '   actual: ', gt_onsets_single[i], ' ', odf_single[i_gt],)\n",
    ";"
   ]
  },
  {
   "cell_type": "code",
   "execution_count": null,
   "metadata": {},
   "outputs": [],
   "source": [
    "# OUTPUT\n",
    "\n",
    "\n",
    "\n",
    "path_prediction_single = 'predictions' + path_single.split('train')[1]\n",
    "np.savetxt(path_prediction_single + '.onsets', onset_time_stamps_single, fmt='%1.2f', delimiter=\"/n\")"
   ]
  },
  {
   "cell_type": "markdown",
   "metadata": {},
   "source": [
    "# File loading and feature extraction"
   ]
  },
  {
   "cell_type": "code",
   "execution_count": 199,
   "metadata": {},
   "outputs": [],
   "source": [
    "def acf(x, length=20):\n",
    "    return np.array([1]+[np.corrcoef(x[:-i], x[i:])[0,1]  \\\n",
    "        for i in range(1, length)])\n",
    "def estimate_tempo(odf):\n",
    "    \"\"\"\n",
    "    Determine dominant tempi by means of auto-correlation.\n",
    "\n",
    "    Parameters\n",
    "    ----------\n",
    "    odf : numpy array\n",
    "        Onset detection function.\n",
    "\n",
    "    Returns\n",
    "    -------\n",
    "    tempo : float\n",
    "        Detected tempo (in bpm).\n",
    "\n",
    "    \"\"\"\n",
    "    min_bpm = 50\n",
    "    max_bpm = 200\n",
    "    #corr = np.correlate(odf, odf, mode='full')\n",
    "    #auto_corr = corr[int(corr.size/2)+1:]\n",
    "    odf = scipy.signal.medfilt(odf, 5)\n",
    "    min_temp_length = int(60/max_bpm * 100)\n",
    "    max_temp_length = int(60/min_bpm * 100)\n",
    "    auto_corr = acf(odf, odf.size-10)[min_temp_length:max_temp_length]\n",
    "    #auto_corr = acf(odf, odf.size-10)[0:]\n",
    "    tempo_length = (min_temp_length + np.argmax(auto_corr)) / 100.0\n",
    "    print (tempo_length)\n",
    "    print(np.arange(0, tempo_length, odf.size))\n",
    "    return auto_corr\n",
    "    #print(auto_corr)\n",
    "    # TODO: your changes here\n",
    "    tempo = 60.0 / tempo_length\n",
    "    return tempo"
   ]
  },
  {
   "cell_type": "code",
   "execution_count": 200,
   "metadata": {},
   "outputs": [
    {
     "name": "stdout",
     "output_type": "stream",
     "text": [
      "0.75\n",
      "[0.]\n",
      "160.0\n"
     ]
    },
    {
     "data": {
      "image/png": "[encoded data removed]",
      "text/plain": [
       "<Figure size 432x288 with 1 Axes>"
      ]
     },
     "metadata": {
      "needs_background": "light"
     },
     "output_type": "display_data"
    }
   ],
   "source": [
    "odf_single = np.array(odf_single)\n",
    "#plt.plot(odf_single)\n",
    "#tempo_bpm = estimate_tempo(odf_single)\n",
    "acf = estimate_tempo(odf_single)\n",
    "plt.plot(acf)\n",
    "#print(tempo_bpm)\n",
    "print (gt_bpm_single)"
   ]
  },
  {
   "cell_type": "code",
   "execution_count": null,
   "metadata": {},
   "outputs": [],
   "source": []
  },
  {
   "cell_type": "code",
   "execution_count": null,
   "metadata": {},
   "outputs": [],
   "source": [
    "# load onsets audio\n",
    "train_onsets_audio = util.load_audios(train_onsets_audio_paths, sampling_rate)"
   ]
  },
  {
   "cell_type": "code",
   "execution_count": null,
   "metadata": {},
   "outputs": [],
   "source": [
    "# compute onsets audio spectrogram"
   ]
  },
  {
   "cell_type": "code",
   "execution_count": null,
   "metadata": {},
   "outputs": [],
   "source": [
    "# compute ground truth for onsets audio"
   ]
  },
  {
   "cell_type": "code",
   "execution_count": null,
   "metadata": {},
   "outputs": [],
   "source": [
    "# load beats audio\n",
    "train_beats_audio = util.load_audios(train_beats_audio_paths, sampling_rate)"
   ]
  },
  {
   "cell_type": "code",
   "execution_count": null,
   "metadata": {},
   "outputs": [],
   "source": [
    "# compute beats audio spectrogram"
   ]
  },
  {
   "cell_type": "code",
   "execution_count": null,
   "metadata": {},
   "outputs": [],
   "source": [
    "# compute ground truth for beats audio"
   ]
  },
  {
   "cell_type": "code",
   "execution_count": null,
   "metadata": {},
   "outputs": [],
   "source": [
    "# load bpm audio\n",
    "train_bpm_audio = util.load_audios(train_bpm_audio_paths, sampling_rate)"
   ]
  },
  {
   "cell_type": "code",
   "execution_count": null,
   "metadata": {},
   "outputs": [],
   "source": [
    "# compute bpm audio spectrogram"
   ]
  },
  {
   "cell_type": "code",
   "execution_count": null,
   "metadata": {},
   "outputs": [],
   "source": [
    "# compute ground truth for bpm audio\n",
    "train_bpm_gt = util.load_ground_truths(train_bpm_gt_paths, '/n')\n",
    "print(train_bpm_gt)"
   ]
  },
  {
   "cell_type": "code",
   "execution_count": null,
   "metadata": {},
   "outputs": [],
   "source": []
  },
  {
   "cell_type": "code",
   "execution_count": null,
   "metadata": {},
   "outputs": [],
   "source": []
  },
  {
   "cell_type": "code",
   "execution_count": null,
   "metadata": {},
   "outputs": [],
   "source": []
  },
  {
   "cell_type": "code",
   "execution_count": null,
   "metadata": {},
   "outputs": [],
   "source": []
  },
  {
   "cell_type": "code",
   "execution_count": null,
   "metadata": {},
   "outputs": [],
   "source": []
  },
  {
   "cell_type": "code",
   "execution_count": null,
   "metadata": {},
   "outputs": [],
   "source": [
    "#load ground truth, pad it with zeroes and adjust to frame number\n",
    "\n",
    "#episode 1\n",
    "\"\"\"\n",
    "gt_1 = util.load_ground_truth(grount_truth_paths[0], '/n')\n",
    "gt_1 = util.compute_0_padded_gt(gt_1, file_lengths[0])\n",
    "gt_1 = util.adjust_gt_to_frames(gt_1, ground_thruth_conversion_const)\n",
    "# append zeros so that lenght equals the frames list length\n",
    "for i in range(len(spectrogram_1T) - len(gt_1)):\n",
    "    gt_1.append(0)\n",
    "print('ground truth size:',len(gt_1))\n",
    "\"\"\""
   ]
  },
  {
   "cell_type": "code",
   "execution_count": null,
   "metadata": {},
   "outputs": [],
   "source": [
    "#concatenate training data\n",
    "\"\"\"\n",
    "gt_train = gt_1 + gt_2\n",
    "\n",
    "spectrogram_train = np.concatenate((spectrogram_1T, spectrogram_2T), axis=0)\n",
    "\n",
    "spectrogram_predict = spectrogram_3T\n",
    "\n",
    "#spectrogram_train[3195] == spectrogram_2T[100]\n",
    "\"\"\"\n",
    "#for i,g in enumerate(gt_train):\n",
    "#    if g == 1:\n",
    "#        print(i)"
   ]
  },
  {
   "cell_type": "markdown",
   "metadata": {},
   "source": [
    "# Classic onset detection method"
   ]
  },
  {
   "cell_type": "code",
   "execution_count": null,
   "metadata": {},
   "outputs": [],
   "source": []
  },
  {
   "cell_type": "markdown",
   "metadata": {},
   "source": [
    "# Classifier training and prediction for onsets"
   ]
  },
  {
   "cell_type": "code",
   "execution_count": null,
   "metadata": {},
   "outputs": [],
   "source": [
    "# use a Multi-layer Perceptron classifier with default parameters\n",
    "#clf = MLPClassifier()"
   ]
  },
  {
   "cell_type": "code",
   "execution_count": null,
   "metadata": {},
   "outputs": [],
   "source": [
    "#clf.fit(spectrogram_train, gt_train)"
   ]
  },
  {
   "cell_type": "code",
   "execution_count": null,
   "metadata": {},
   "outputs": [],
   "source": [
    "#prediction = clf.predict(spectrogram_predict)"
   ]
  },
  {
   "cell_type": "code",
   "execution_count": null,
   "metadata": {},
   "outputs": [],
   "source": [
    "#np.savetxt(prediction_paths[2], prediction, delimiter=\"/n\")"
   ]
  },
  {
   "cell_type": "markdown",
   "metadata": {},
   "source": [
    "# Evaluation for onset detection"
   ]
  },
  {
   "cell_type": "code",
   "execution_count": null,
   "metadata": {},
   "outputs": [],
   "source": [
    "\"\"\"\n",
    "print('precision (micro average):',precision_score(gt_3, prediction, average='micro'))\n",
    "print('precision (macro average):',precision_score(gt_3, prediction, average='macro'))\n",
    "print('precision (weighted average):',precision_score(gt_3, prediction, average='weighted'))\n",
    "\"\"\""
   ]
  },
  {
   "cell_type": "code",
   "execution_count": null,
   "metadata": {},
   "outputs": [],
   "source": [
    "\"\"\"\n",
    "print('recall (micro average):',recall_score(gt_3, prediction, average='micro'))\n",
    "print('recall (macro average):',recall_score(gt_3, prediction, average='macro'))\n",
    "print('recall (weighted average):',recall_score(gt_3, prediction, average='weighted'))\n",
    "\"\"\""
   ]
  },
  {
   "cell_type": "code",
   "execution_count": null,
   "metadata": {},
   "outputs": [],
   "source": [
    "\"\"\"\n",
    "print('f1 (micro average):',f1_score(gt_3, prediction, average='micro'))\n",
    "print('f1 (macro average):',f1_score(gt_3, prediction, average='macro'))\n",
    "print('f1 (weighted average):',f1_score(gt_3, prediction, average='weighted'))\n",
    "\"\"\""
   ]
  },
  {
   "cell_type": "code",
   "execution_count": null,
   "metadata": {},
   "outputs": [],
   "source": [
    "\"\"\"\n",
    "# calculate false positive / true positive rate and area under curve\n",
    "fpr, tpr, threshold = roc_curve(gt_3, prediction)\n",
    "roc_auc = auc(fpr, tpr)\n",
    "\n",
    "# plot ROC curve\n",
    "plt.title('Receiver Operating Characteristic')\n",
    "plt.plot(fpr, tpr, 'b', label = 'AUC = %0.2f' % roc_auc)\n",
    "plt.legend(loc = 'lower right')\n",
    "plt.plot([0, 1], [0, 1],'r--')\n",
    "plt.xlim([0, 1])\n",
    "plt.ylim([0, 1])\n",
    "plt.ylabel('True Positive Rate')\n",
    "plt.xlabel('False Positive Rate')\n",
    "plt.show()\n",
    "\"\"\""
   ]
  },
  {
   "cell_type": "code",
   "execution_count": null,
   "metadata": {},
   "outputs": [],
   "source": []
  }
 ],
 "metadata": {
  "kernelspec": {
   "display_name": "Python 3",
   "language": "python",
   "name": "python3"
  },
  "language_info": {
   "codemirror_mode": {
    "name": "ipython",
    "version": 3
   },
   "file_extension": ".py",
   "mimetype": "text/x-python",
   "name": "python",
   "nbconvert_exporter": "python",
   "pygments_lexer": "ipython3",
   "version": "3.5.2"
  }
 },
 "nbformat": 4,
 "nbformat_minor": 2
}
