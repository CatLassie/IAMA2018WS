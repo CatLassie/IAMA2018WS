{
 "cells": [
  {
   "cell_type": "markdown",
   "metadata": {},
   "source": [
    "# Imports and constants"
   ]
  },
  {
   "cell_type": "code",
   "execution_count": 1,
   "metadata": {},
   "outputs": [],
   "source": [
    "#import statemets\n",
    "\n",
    "import numpy as np\n",
    "from sklearn.neural_network import MLPClassifier\n",
    "from sklearn.metrics import precision_score\n",
    "from sklearn.metrics import recall_score\n",
    "from sklearn.metrics import f1_score\n",
    "from sklearn.metrics import roc_curve\n",
    "from sklearn.metrics import roc_auc_score\n",
    "from sklearn.metrics import auc\n",
    "import matplotlib.pyplot as plt\n",
    "from customScripts import utilities as util\n",
    "from customScripts import features as feat\n",
    "from customScripts import onset"
   ]
  },
  {
   "cell_type": "code",
   "execution_count": 2,
   "metadata": {},
   "outputs": [],
   "source": [
    "# parameters\n",
    "\n",
    "#number of samples / second\n",
    "sampling_rate = 96000\n",
    "\n",
    "#length of frame in samples\n",
    "frame_length = 2048 #48000\n",
    "\n",
    "#number of samples used as offset for earch consecutive frame\n",
    "hop_length = 1024 #24000\n",
    "\n",
    "#number of mel frequency bins to use\n",
    "bin_number = 40 #80\n",
    "\n",
    "#set the desired number of frames / second here\n",
    "ground_thruth_conversion_const = 100 #2\n",
    "\n",
    "#input data\n",
    "file_paths = ['music_data/shortName.flac']\n",
    "grount_truth_paths = ['music_data/shortName.onsets']\n",
    "# prediction_paths = ['predictions/Muppets-02-01-01.csv', 'predictions/Muppets-02-04-04.csv', 'predictions/Muppets-03-04-03.csv']\n",
    "# file_lengths = [1547, 1548, 1539] #in seconds"
   ]
  },
  {
   "cell_type": "markdown",
   "metadata": {},
   "source": [
    "# File loading and feature extraction"
   ]
  },
  {
   "cell_type": "code",
   "execution_count": 3,
   "metadata": {},
   "outputs": [],
   "source": [
    "#load audio\n",
    "y_1 = util.load_audio(file_paths[0], sampling_rate)"
   ]
  },
  {
   "cell_type": "code",
   "execution_count": 4,
   "metadata": {},
   "outputs": [
    {
     "name": "stdout",
     "output_type": "stream",
     "text": [
      "frame number: 925\n",
      "bin number: 40\n"
     ]
    }
   ],
   "source": [
    "#compute spectrograms\n",
    "spectrogram_1 = feat.compute_spectrogram(y_1, frame_length, hop_length, bin_number)\n",
    "spectrogram_1T = spectrogram_1.transpose()\n",
    "print('frame number:',len(spectrogram_1T))\n",
    "print('bin number:',len(spectrogram_1))"
   ]
  },
  {
   "cell_type": "code",
   "execution_count": null,
   "metadata": {},
   "outputs": [],
   "source": []
  },
  {
   "cell_type": "code",
   "execution_count": null,
   "metadata": {},
   "outputs": [],
   "source": []
  },
  {
   "cell_type": "code",
   "execution_count": null,
   "metadata": {},
   "outputs": [],
   "source": []
  },
  {
   "cell_type": "code",
   "execution_count": null,
   "metadata": {},
   "outputs": [],
   "source": []
  },
  {
   "cell_type": "code",
   "execution_count": 5,
   "metadata": {},
   "outputs": [
    {
     "data": {
      "text/plain": [
       "\"\\ngt_1 = util.load_ground_truth(grount_truth_paths[0], '/n')\\ngt_1 = util.compute_0_padded_gt(gt_1, file_lengths[0])\\ngt_1 = util.adjust_gt_to_frames(gt_1, ground_thruth_conversion_const)\\n# append zeros so that lenght equals the frames list length\\nfor i in range(len(spectrogram_1T) - len(gt_1)):\\n    gt_1.append(0)\\nprint('ground truth size:',len(gt_1))\\n\""
      ]
     },
     "execution_count": 5,
     "metadata": {},
     "output_type": "execute_result"
    }
   ],
   "source": [
    "#load ground truth, pad it with zeroes and adjust to frame number\n",
    "\n",
    "#episode 1\n",
    "\"\"\"\n",
    "gt_1 = util.load_ground_truth(grount_truth_paths[0], '/n')\n",
    "gt_1 = util.compute_0_padded_gt(gt_1, file_lengths[0])\n",
    "gt_1 = util.adjust_gt_to_frames(gt_1, ground_thruth_conversion_const)\n",
    "# append zeros so that lenght equals the frames list length\n",
    "for i in range(len(spectrogram_1T) - len(gt_1)):\n",
    "    gt_1.append(0)\n",
    "print('ground truth size:',len(gt_1))\n",
    "\"\"\""
   ]
  },
  {
   "cell_type": "code",
   "execution_count": 6,
   "metadata": {},
   "outputs": [
    {
     "data": {
      "text/plain": [
       "'\\ngt_train = gt_1 + gt_2\\n\\nspectrogram_train = np.concatenate((spectrogram_1T, spectrogram_2T), axis=0)\\n\\nspectrogram_predict = spectrogram_3T\\n\\n#spectrogram_train[3195] == spectrogram_2T[100]\\n'"
      ]
     },
     "execution_count": 6,
     "metadata": {},
     "output_type": "execute_result"
    }
   ],
   "source": [
    "#concatenate training data\n",
    "\"\"\"\n",
    "gt_train = gt_1 + gt_2\n",
    "\n",
    "spectrogram_train = np.concatenate((spectrogram_1T, spectrogram_2T), axis=0)\n",
    "\n",
    "spectrogram_predict = spectrogram_3T\n",
    "\n",
    "#spectrogram_train[3195] == spectrogram_2T[100]\n",
    "\"\"\"\n",
    "#for i,g in enumerate(gt_train):\n",
    "#    if g == 1:\n",
    "#        print(i)"
   ]
  },
  {
   "cell_type": "markdown",
   "metadata": {},
   "source": [
    "# Classic onset detection method"
   ]
  },
  {
   "cell_type": "code",
   "execution_count": 7,
   "metadata": {},
   "outputs": [
    {
     "name": "stdout",
     "output_type": "stream",
     "text": [
      "0.19     12851.947607634267\n",
      "0.47     3166.012063484796\n",
      "0.51     2532.10564465314\n",
      "0.54     4365.008764754299\n",
      "0.93     5624.877194532108\n",
      "1.07     8409.30679606081\n",
      "1.29     2013.7925164592432\n",
      "1.3     2041.9813119375274\n",
      "1.65     3550.032977131397\n",
      "1.82     3646.304330914989\n",
      "2.15     3837.0133437751115\n",
      "2.63     11865.194803827211\n",
      "3.0     2388.208735349561\n",
      "3.15     5065.365029092363\n",
      "3.48     4431.2915991141435\n",
      "3.61     2700.0251561185105\n",
      "3.74     1732.3124500256968\n",
      "3.75     4114.019109489879\n",
      "3.95     3805.032089821962\n",
      "4.28     16331.352413517723\n",
      "4.83     2087.727705317932\n",
      "5.31     4648.085019328973\n",
      "5.32     4092.5531771091696\n",
      "5.63     2859.938650906786\n",
      "6.22     2820.792102984799\n",
      "6.33     1938.010394196111\n",
      "6.43     2866.006727487443\n",
      "6.88     2078.717715250614\n",
      "7.0     4119.0725472068925\n",
      "7.01     1690.1988300152009\n",
      "7.21     6654.142078309705\n",
      "7.53     3497.4995478058727\n",
      "7.68     1659.7037819596476\n",
      "7.99     9067.64515749213\n",
      "8.18     2120.98297734834\n",
      "8.52     9051.03161424563\n",
      "8.85     10624.847534525827\n",
      "9.18     10761.536963359262\n",
      "9.19     1691.7763291539547\n"
     ]
    }
   ],
   "source": [
    "odf_1 = onset.compute_odf(spectrogram_1)\n",
    "peaks_1 = onset.apply_threshold(odf_1, 1500)\n",
    "#print(peaks_1)\n",
    "\n",
    "for i, p in enumerate(peaks_1):\n",
    "    if p > 0:\n",
    "        print(i/100, '   ', p)\n",
    "        \n",
    "        \n",
    "        \n",
    "# maxima = o.pick_local_peaks(peaks)\n",
    "\n",
    "# print(maxima)"
   ]
  },
  {
   "cell_type": "markdown",
   "metadata": {},
   "source": [
    "# Classifier training and prediction for onsets"
   ]
  },
  {
   "cell_type": "code",
   "execution_count": 8,
   "metadata": {},
   "outputs": [],
   "source": [
    "# use a Multi-layer Perceptron classifier with default parameters\n",
    "#clf = MLPClassifier()"
   ]
  },
  {
   "cell_type": "code",
   "execution_count": 9,
   "metadata": {},
   "outputs": [],
   "source": [
    "#clf.fit(spectrogram_train, gt_train)"
   ]
  },
  {
   "cell_type": "code",
   "execution_count": 10,
   "metadata": {},
   "outputs": [],
   "source": [
    "#prediction = clf.predict(spectrogram_predict)"
   ]
  },
  {
   "cell_type": "code",
   "execution_count": 11,
   "metadata": {},
   "outputs": [],
   "source": [
    "#np.savetxt(prediction_paths[2], prediction, delimiter=\"/n\")"
   ]
  },
  {
   "cell_type": "markdown",
   "metadata": {},
   "source": [
    "# Evaluation for onset detection"
   ]
  },
  {
   "cell_type": "code",
   "execution_count": 12,
   "metadata": {},
   "outputs": [
    {
     "data": {
      "text/plain": [
       "\"\\nprint('precision (micro average):',precision_score(gt_3, prediction, average='micro'))\\nprint('precision (macro average):',precision_score(gt_3, prediction, average='macro'))\\nprint('precision (weighted average):',precision_score(gt_3, prediction, average='weighted'))\\n\""
      ]
     },
     "execution_count": 12,
     "metadata": {},
     "output_type": "execute_result"
    }
   ],
   "source": [
    "\"\"\"\n",
    "print('precision (micro average):',precision_score(gt_3, prediction, average='micro'))\n",
    "print('precision (macro average):',precision_score(gt_3, prediction, average='macro'))\n",
    "print('precision (weighted average):',precision_score(gt_3, prediction, average='weighted'))\n",
    "\"\"\""
   ]
  },
  {
   "cell_type": "code",
   "execution_count": 13,
   "metadata": {},
   "outputs": [
    {
     "data": {
      "text/plain": [
       "\"\\nprint('recall (micro average):',recall_score(gt_3, prediction, average='micro'))\\nprint('recall (macro average):',recall_score(gt_3, prediction, average='macro'))\\nprint('recall (weighted average):',recall_score(gt_3, prediction, average='weighted'))\\n\""
      ]
     },
     "execution_count": 13,
     "metadata": {},
     "output_type": "execute_result"
    }
   ],
   "source": [
    "\"\"\"\n",
    "print('recall (micro average):',recall_score(gt_3, prediction, average='micro'))\n",
    "print('recall (macro average):',recall_score(gt_3, prediction, average='macro'))\n",
    "print('recall (weighted average):',recall_score(gt_3, prediction, average='weighted'))\n",
    "\"\"\""
   ]
  },
  {
   "cell_type": "code",
   "execution_count": 14,
   "metadata": {},
   "outputs": [
    {
     "data": {
      "text/plain": [
       "\"\\nprint('f1 (micro average):',f1_score(gt_3, prediction, average='micro'))\\nprint('f1 (macro average):',f1_score(gt_3, prediction, average='macro'))\\nprint('f1 (weighted average):',f1_score(gt_3, prediction, average='weighted'))\\n\""
      ]
     },
     "execution_count": 14,
     "metadata": {},
     "output_type": "execute_result"
    }
   ],
   "source": [
    "\"\"\"\n",
    "print('f1 (micro average):',f1_score(gt_3, prediction, average='micro'))\n",
    "print('f1 (macro average):',f1_score(gt_3, prediction, average='macro'))\n",
    "print('f1 (weighted average):',f1_score(gt_3, prediction, average='weighted'))\n",
    "\"\"\""
   ]
  },
  {
   "cell_type": "code",
   "execution_count": 15,
   "metadata": {},
   "outputs": [
    {
     "data": {
      "text/plain": [
       "\"\\n# calculate false positive / true positive rate and area under curve\\nfpr, tpr, threshold = roc_curve(gt_3, prediction)\\nroc_auc = auc(fpr, tpr)\\n\\n# plot ROC curve\\nplt.title('Receiver Operating Characteristic')\\nplt.plot(fpr, tpr, 'b', label = 'AUC = %0.2f' % roc_auc)\\nplt.legend(loc = 'lower right')\\nplt.plot([0, 1], [0, 1],'r--')\\nplt.xlim([0, 1])\\nplt.ylim([0, 1])\\nplt.ylabel('True Positive Rate')\\nplt.xlabel('False Positive Rate')\\nplt.show()\\n\""
      ]
     },
     "execution_count": 15,
     "metadata": {},
     "output_type": "execute_result"
    }
   ],
   "source": [
    "\"\"\"\n",
    "# calculate false positive / true positive rate and area under curve\n",
    "fpr, tpr, threshold = roc_curve(gt_3, prediction)\n",
    "roc_auc = auc(fpr, tpr)\n",
    "\n",
    "# plot ROC curve\n",
    "plt.title('Receiver Operating Characteristic')\n",
    "plt.plot(fpr, tpr, 'b', label = 'AUC = %0.2f' % roc_auc)\n",
    "plt.legend(loc = 'lower right')\n",
    "plt.plot([0, 1], [0, 1],'r--')\n",
    "plt.xlim([0, 1])\n",
    "plt.ylim([0, 1])\n",
    "plt.ylabel('True Positive Rate')\n",
    "plt.xlabel('False Positive Rate')\n",
    "plt.show()\n",
    "\"\"\""
   ]
  },
  {
   "cell_type": "code",
   "execution_count": null,
   "metadata": {},
   "outputs": [],
   "source": []
  }
 ],
 "metadata": {
  "kernelspec": {
   "display_name": "Python 3",
   "language": "python",
   "name": "python3"
  },
  "language_info": {
   "codemirror_mode": {
    "name": "ipython",
    "version": 3
   },
   "file_extension": ".py",
   "mimetype": "text/x-python",
   "name": "python",
   "nbconvert_exporter": "python",
   "pygments_lexer": "ipython3",
   "version": "3.7.1"
  }
 },
 "nbformat": 4,
 "nbformat_minor": 2
}
