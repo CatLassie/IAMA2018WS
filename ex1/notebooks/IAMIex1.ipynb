{
 "cells": [
  {
   "cell_type": "markdown",
   "metadata": {},
   "source": [
    "# Imports and constants"
   ]
  },
  {
   "cell_type": "code",
   "execution_count": 1,
   "metadata": {},
   "outputs": [],
   "source": [
    "#import statemets\n",
    "\n",
    "import numpy as np\n",
    "from sklearn.neural_network import MLPClassifier\n",
    "from sklearn.metrics import precision_score\n",
    "from sklearn.metrics import recall_score\n",
    "from sklearn.metrics import f1_score\n",
    "from sklearn.metrics import roc_curve\n",
    "from sklearn.metrics import roc_auc_score\n",
    "from sklearn.metrics import auc\n",
    "import matplotlib.pyplot as plt\n",
    "from customScripts import utilities as util\n",
    "from customScripts import features as feat"
   ]
  },
  {
   "cell_type": "code",
   "execution_count": 2,
   "metadata": {},
   "outputs": [],
   "source": [
    "# parameters\n",
    "\n",
    "#number of samples / second\n",
    "sampling_rate = 96000\n",
    "\n",
    "#length of frame in samples\n",
    "frame_length = 2048 #48000\n",
    "\n",
    "#number of samples used as offset for earch consecutive frame\n",
    "hop_length = 1024 #24000\n",
    "\n",
    "#number of mel frequency bins to use\n",
    "bin_number = 40 #80\n",
    "\n",
    "#set the desired number of frames / second here\n",
    "ground_thruth_conversion_const = 100 #2\n",
    "\n",
    "#input data\n",
    "file_paths = ['audio_files/Muppets-02-01-01.wav', 'audio_files/Muppets-02-04-04.wav', 'audio_files/Muppets-03-04-03.wav']\n",
    "grount_truth_paths = ['ground_truth/Muppets-02-01-01.csv', 'ground_truth/Muppets-02-04-04.csv', 'ground_truth/Muppets-03-04-03.csv']\n",
    "prediction_paths = ['predictions/Muppets-02-01-01.csv', 'predictions/Muppets-02-04-04.csv', 'predictions/Muppets-03-04-03.csv']\n",
    "file_lengths = [1547, 1548, 1539] #in seconds"
   ]
  },
  {
   "cell_type": "markdown",
   "metadata": {},
   "source": [
    "# File loading and feature extraction"
   ]
  },
  {
   "cell_type": "code",
   "execution_count": 3,
   "metadata": {},
   "outputs": [],
   "source": [
    "#load episode 1\n",
    "#y_1 = util.load_audio(file_paths[0], sampling_rate)"
   ]
  },
  {
   "cell_type": "code",
   "execution_count": 4,
   "metadata": {},
   "outputs": [],
   "source": [
    "#load episode 2\n",
    "#y_2 = util.load_audio(file_paths[1], sampling_rate)"
   ]
  },
  {
   "cell_type": "code",
   "execution_count": 5,
   "metadata": {},
   "outputs": [],
   "source": [
    "#load episode 3\n",
    "#y_3 = util.load_audio(file_paths[2], sampling_rate)"
   ]
  },
  {
   "cell_type": "code",
   "execution_count": 6,
   "metadata": {},
   "outputs": [],
   "source": [
    "#compute spectrogram for episode 1\n",
    "#spectrogram_1 = feat.compute_spectrogram(y_1, frame_length, hop_length, bin_number)\n",
    "#spectrogram_1T = spectrogram_1.transpose()\n",
    "#print('frame number:',len(spectrogram_1T))"
   ]
  },
  {
   "cell_type": "code",
   "execution_count": 7,
   "metadata": {},
   "outputs": [],
   "source": [
    "#compute spectrogram for episode 2\n",
    "#spectrogram_2 = feat.compute_spectrogram(y_2, frame_length, hop_length, bin_number)\n",
    "#spectrogram_2T = spectrogram_2.transpose()\n",
    "#print('frame number:',len(spectrogram_2T))"
   ]
  },
  {
   "cell_type": "code",
   "execution_count": 8,
   "metadata": {},
   "outputs": [],
   "source": [
    "#compute spectrogram for episode 3\n",
    "#spectrogram_3 = feat.compute_spectrogram(y_3, frame_length, hop_length, bin_number)\n",
    "#spectrogram_3T = spectrogram_3.transpose()\n",
    "#print('frame number:',len(spectrogram_3T))"
   ]
  },
  {
   "cell_type": "code",
   "execution_count": 9,
   "metadata": {},
   "outputs": [
    {
     "data": {
      "text/plain": [
       "\"\\ngt_2 = util.load_ground_truth(grount_truth_paths[1], '/n')\\ngt_2 = util.compute_0_padded_gt(gt_2, file_lengths[1])\\ngt_2 = util.adjust_gt_to_frames(gt_2, ground_thruth_conversion_const)\\n# append zeros so that lenght equals the frames list length\\nfor i in range(len(spectrogram_2T) - len(gt_2)):\\n    gt_2.append(0)\\nprint('ground truth size:',len(gt_2))\\n\\n#episode 3\\ngt_3 = util.load_ground_truth(grount_truth_paths[2], '/n')\\ngt_3 = util.compute_0_padded_gt(gt_3, file_lengths[2])\\ngt_3 = util.adjust_gt_to_frames(gt_3, ground_thruth_conversion_const)\\n# append zeros so that lenght equals the frames list length\\nfor i in range(len(spectrogram_3T) - len(gt_3)):\\n    gt_3.append(0)\\nprint('ground truth size:',len(gt_3))\\n\""
      ]
     },
     "execution_count": 9,
     "metadata": {},
     "output_type": "execute_result"
    }
   ],
   "source": [
    "#load ground truth, pad it with zeroes and adjust to frame number\n",
    "\n",
    "#episode 1\n",
    "\"\"\"\n",
    "gt_1 = util.load_ground_truth(grount_truth_paths[0], '/n')\n",
    "gt_1 = util.compute_0_padded_gt(gt_1, file_lengths[0])\n",
    "gt_1 = util.adjust_gt_to_frames(gt_1, ground_thruth_conversion_const)\n",
    "# append zeros so that lenght equals the frames list length\n",
    "for i in range(len(spectrogram_1T) - len(gt_1)):\n",
    "    gt_1.append(0)\n",
    "print('ground truth size:',len(gt_1))\n",
    "\"\"\"\n",
    "\n",
    "#episode 2\n",
    "\"\"\"\n",
    "gt_2 = util.load_ground_truth(grount_truth_paths[1], '/n')\n",
    "gt_2 = util.compute_0_padded_gt(gt_2, file_lengths[1])\n",
    "gt_2 = util.adjust_gt_to_frames(gt_2, ground_thruth_conversion_const)\n",
    "# append zeros so that lenght equals the frames list length\n",
    "for i in range(len(spectrogram_2T) - len(gt_2)):\n",
    "    gt_2.append(0)\n",
    "print('ground truth size:',len(gt_2))\n",
    "\n",
    "#episode 3\n",
    "gt_3 = util.load_ground_truth(grount_truth_paths[2], '/n')\n",
    "gt_3 = util.compute_0_padded_gt(gt_3, file_lengths[2])\n",
    "gt_3 = util.adjust_gt_to_frames(gt_3, ground_thruth_conversion_const)\n",
    "# append zeros so that lenght equals the frames list length\n",
    "for i in range(len(spectrogram_3T) - len(gt_3)):\n",
    "    gt_3.append(0)\n",
    "print('ground truth size:',len(gt_3))\n",
    "\"\"\""
   ]
  },
  {
   "cell_type": "code",
   "execution_count": 10,
   "metadata": {},
   "outputs": [
    {
     "data": {
      "text/plain": [
       "'\\ngt_train = gt_1 + gt_2\\n\\nspectrogram_train = np.concatenate((spectrogram_1T, spectrogram_2T), axis=0)\\n\\nspectrogram_predict = spectrogram_3T\\n\\n#spectrogram_train[3195] == spectrogram_2T[100]\\n'"
      ]
     },
     "execution_count": 10,
     "metadata": {},
     "output_type": "execute_result"
    }
   ],
   "source": [
    "#concatenate training data\n",
    "\"\"\"\n",
    "gt_train = gt_1 + gt_2\n",
    "\n",
    "spectrogram_train = np.concatenate((spectrogram_1T, spectrogram_2T), axis=0)\n",
    "\n",
    "spectrogram_predict = spectrogram_3T\n",
    "\n",
    "#spectrogram_train[3195] == spectrogram_2T[100]\n",
    "\"\"\"\n",
    "#for i,g in enumerate(gt_train):\n",
    "#    if g == 1:\n",
    "#        print(i)"
   ]
  },
  {
   "cell_type": "markdown",
   "metadata": {},
   "source": [
    "# Classifier training and prediction"
   ]
  },
  {
   "cell_type": "code",
   "execution_count": 11,
   "metadata": {},
   "outputs": [],
   "source": [
    "# use a Multi-layer Perceptron classifier with default parameters\n",
    "#clf = MLPClassifier()"
   ]
  },
  {
   "cell_type": "code",
   "execution_count": 12,
   "metadata": {},
   "outputs": [],
   "source": [
    "#clf.fit(spectrogram_train, gt_train)"
   ]
  },
  {
   "cell_type": "code",
   "execution_count": 13,
   "metadata": {},
   "outputs": [],
   "source": [
    "#prediction = clf.predict(spectrogram_predict)"
   ]
  },
  {
   "cell_type": "code",
   "execution_count": 14,
   "metadata": {},
   "outputs": [],
   "source": [
    "#np.savetxt(prediction_paths[2], prediction, delimiter=\"/n\")"
   ]
  },
  {
   "cell_type": "markdown",
   "metadata": {},
   "source": [
    "# Evaluation"
   ]
  },
  {
   "cell_type": "code",
   "execution_count": 15,
   "metadata": {},
   "outputs": [
    {
     "data": {
      "text/plain": [
       "\"\\nprint('precision (micro average):',precision_score(gt_3, prediction, average='micro'))\\nprint('precision (macro average):',precision_score(gt_3, prediction, average='macro'))\\nprint('precision (weighted average):',precision_score(gt_3, prediction, average='weighted'))\\n\""
      ]
     },
     "execution_count": 15,
     "metadata": {},
     "output_type": "execute_result"
    }
   ],
   "source": [
    "\"\"\"\n",
    "print('precision (micro average):',precision_score(gt_3, prediction, average='micro'))\n",
    "print('precision (macro average):',precision_score(gt_3, prediction, average='macro'))\n",
    "print('precision (weighted average):',precision_score(gt_3, prediction, average='weighted'))\n",
    "\"\"\""
   ]
  },
  {
   "cell_type": "code",
   "execution_count": 16,
   "metadata": {},
   "outputs": [
    {
     "data": {
      "text/plain": [
       "\"\\nprint('recall (micro average):',recall_score(gt_3, prediction, average='micro'))\\nprint('recall (macro average):',recall_score(gt_3, prediction, average='macro'))\\nprint('recall (weighted average):',recall_score(gt_3, prediction, average='weighted'))\\n\""
      ]
     },
     "execution_count": 16,
     "metadata": {},
     "output_type": "execute_result"
    }
   ],
   "source": [
    "\"\"\"\n",
    "print('recall (micro average):',recall_score(gt_3, prediction, average='micro'))\n",
    "print('recall (macro average):',recall_score(gt_3, prediction, average='macro'))\n",
    "print('recall (weighted average):',recall_score(gt_3, prediction, average='weighted'))\n",
    "\"\"\""
   ]
  },
  {
   "cell_type": "code",
   "execution_count": 17,
   "metadata": {},
   "outputs": [
    {
     "data": {
      "text/plain": [
       "\"\\nprint('f1 (micro average):',f1_score(gt_3, prediction, average='micro'))\\nprint('f1 (macro average):',f1_score(gt_3, prediction, average='macro'))\\nprint('f1 (weighted average):',f1_score(gt_3, prediction, average='weighted'))\\n\""
      ]
     },
     "execution_count": 17,
     "metadata": {},
     "output_type": "execute_result"
    }
   ],
   "source": [
    "\"\"\"\n",
    "print('f1 (micro average):',f1_score(gt_3, prediction, average='micro'))\n",
    "print('f1 (macro average):',f1_score(gt_3, prediction, average='macro'))\n",
    "print('f1 (weighted average):',f1_score(gt_3, prediction, average='weighted'))\n",
    "\"\"\""
   ]
  },
  {
   "cell_type": "code",
   "execution_count": 18,
   "metadata": {},
   "outputs": [
    {
     "data": {
      "text/plain": [
       "\"\\n# calculate false positive / true positive rate and area under curve\\nfpr, tpr, threshold = roc_curve(gt_3, prediction)\\nroc_auc = auc(fpr, tpr)\\n\\n# plot ROC curve\\nplt.title('Receiver Operating Characteristic')\\nplt.plot(fpr, tpr, 'b', label = 'AUC = %0.2f' % roc_auc)\\nplt.legend(loc = 'lower right')\\nplt.plot([0, 1], [0, 1],'r--')\\nplt.xlim([0, 1])\\nplt.ylim([0, 1])\\nplt.ylabel('True Positive Rate')\\nplt.xlabel('False Positive Rate')\\nplt.show()\\n\""
      ]
     },
     "execution_count": 18,
     "metadata": {},
     "output_type": "execute_result"
    }
   ],
   "source": [
    "\"\"\"\n",
    "# calculate false positive / true positive rate and area under curve\n",
    "fpr, tpr, threshold = roc_curve(gt_3, prediction)\n",
    "roc_auc = auc(fpr, tpr)\n",
    "\n",
    "# plot ROC curve\n",
    "plt.title('Receiver Operating Characteristic')\n",
    "plt.plot(fpr, tpr, 'b', label = 'AUC = %0.2f' % roc_auc)\n",
    "plt.legend(loc = 'lower right')\n",
    "plt.plot([0, 1], [0, 1],'r--')\n",
    "plt.xlim([0, 1])\n",
    "plt.ylim([0, 1])\n",
    "plt.ylabel('True Positive Rate')\n",
    "plt.xlabel('False Positive Rate')\n",
    "plt.show()\n",
    "\"\"\""
   ]
  },
  {
   "cell_type": "code",
   "execution_count": null,
   "metadata": {},
   "outputs": [],
   "source": []
  }
 ],
 "metadata": {
  "kernelspec": {
   "display_name": "Python 3",
   "language": "python",
   "name": "python3"
  },
  "language_info": {
   "codemirror_mode": {
    "name": "ipython",
    "version": 3
   },
   "file_extension": ".py",
   "mimetype": "text/x-python",
   "name": "python",
   "nbconvert_exporter": "python",
   "pygments_lexer": "ipython3",
   "version": "3.7.1"
  }
 },
 "nbformat": 4,
 "nbformat_minor": 2
}
